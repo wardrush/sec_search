{
 "cells": [
  {
   "cell_type": "code",
   "execution_count": 79,
   "id": "d6a8e5df-fe3d-4609-b387-2f00c998cf58",
   "metadata": {
    "tags": []
   },
   "outputs": [],
   "source": [
    "# Imports\n",
    "import pandas as pd\n",
    "import requests\n",
    "import re"
   ]
  },
  {
   "cell_type": "code",
   "execution_count": 103,
   "id": "8ee221b1-fd36-4656-8d2f-2d87563c6af0",
   "metadata": {
    "tags": []
   },
   "outputs": [],
   "source": [
    "\"\"\"\n",
    "Flow is as follows\n",
    "1. Tickers.txt is read into python variable if not already there to create CIK lookup table\n",
    "2. PublicCompany class can be called by a user. This takes a ticker as part of __init__ and correlates with CIK\n",
    "3. FilingRequester class manages the headers and URL assembly to find and pull most recent 10K\n",
    "4. PublicFiling class is created with the requested filing and can create a parsed version from the raw filing\n",
    "5. PublicFiling finds the relevant Item 1A sections with regex and returns values from function \n",
    "6. SECDataManager class orchestrates threaded calls for various tickers, the aggregation, and the output of those calls\n",
    "\"\"\"\n",
    "class SECDataManager:\n",
    "    \"\"\"\n",
    "    This class orchestrates threaded calls to stay under the 10 calls/s max of the SEC Edgar website\n",
    "    \"\"\"\n",
    "    def __init__(self):\n",
    "        pass\n",
    "\n",
    "    \n",
    "class PublicCompany:\n",
    "    \"\"\"\n",
    "    A PublicCompany is the entity that represents a publicly-traded company. \n",
    "    A public company instance will have multiple public filings (most likely), so each instance of a public filing \n",
    "    can be instanciated by creating a PublicFiling object. \n",
    "    For the 10K search case, the PublicFiling will just be the most recent 10K filing\n",
    "    \n",
    "    In the future, this class can be extended to managing filings based on the accession number / URL\n",
    "    \"\"\"\n",
    "    def __init__(self, ticker=None, debug=False, company_cik=None, filepath='ticker.txt'):\n",
    "        self.ticker = ticker\n",
    "        self.debug = debug\n",
    "        self.filepath = filepath \n",
    "        if company_cik:\n",
    "            self.company_cik = company_cik\n",
    "        else: self.get_company_cik()\n",
    "        self.most_recent_10k = PublicFiling(company_cik=self.company_cik, ticker=self.ticker, debug=self.debug)\n",
    "        \n",
    "    def __repr__(self):\n",
    "        \"\"\"\n",
    "        Returns representation of the object\n",
    "        \"\"\"\n",
    "        return f\"{self.__class__.__name__}(ticker='{self.ticker}', company_cik='{self.company_cik}')\"\n",
    "\n",
    "    def get_company_cik(self):\n",
    "        \"\"\"\n",
    "        Get CIK from ticker reference file\n",
    "        \"\"\"\n",
    "        df = pd.read_csv(self.filepath, sep='\\t', names=[\"Ticker\", \"CIK\"])\n",
    "        df['CIK'] = df['CIK'].apply(lambda x: f\"{x:0>10}\")\n",
    "        try:\n",
    "            self.company_cik = df.loc[df['Ticker'].str.lower() == self.ticker.lower(), 'CIK'].item()\n",
    "        except ValueError:\n",
    "            raise ValueError(\"Ticker not recognized\")\n",
    "\n",
    "class FilingRequester():\n",
    "    def __init__(self, company_cik, ticker=None, debug=False, accession_number=None,\n",
    "                 request_url=None, headers=None, filing_options=None):\n",
    "        \"\"\"\n",
    "        FilingRequester manages the assembly of the request URL and the request itself. \n",
    "        If an access_URL is passed to the function, it will automatically make the request without running through everything else\n",
    "        \"\"\"\n",
    "        # Set up request headers\n",
    "        self.headers = headers or {\n",
    "            'User-Agent': 'evolvConsulting ward.rushton@evolvconsulting.com',\n",
    "            'From': 'ward.rushton@evolvconsulting.com'}\n",
    "        \n",
    "        self.company_cik = company_cik\n",
    "        self.filing_options = filing_options or [\"10-K\"]\n",
    "        if accession_number is None:\n",
    "            self.get_most_recent_accession_number()\n",
    "        else: self.accession_number = accession_number\n",
    "            \n",
    "        if request_url is not None:\n",
    "            self.request_url = request_url\n",
    "            self.raw_filing = self.retrieve_filing_from_url()\n",
    "        else: \n",
    "            self.format_url_from_cik()\n",
    "            self.retrieve_filing_from_url()\n",
    "\n",
    "    def format_url_from_cik(self):\n",
    "        \"\"\"\n",
    "        Assemble the .TXT access URL from SEC website\n",
    "        Requires \n",
    "        \"\"\"\n",
    "        base_url = \"https://www.sec.gov/Archives/edgar/data/\"\n",
    "        formatted_accession_number = self.accession_number.replace('-', '')\n",
    "        self.request_url = f\"{base_url}{self.company_cik}/{formatted_accession_number}/{self.accession_number}.txt\"\n",
    " \n",
    "    def fetch_filings_list(self):\n",
    "        \"\"\"\n",
    "        Fetches a list of filings for the company specified by its CIK.\n",
    "        \"\"\"\n",
    "        base_url = \"https://data.sec.gov/submissions/CIK\"\n",
    "        response = requests.get(f\"{base_url}{self.company_cik}.json\", headers=self.headers)\n",
    "        response.raise_for_status()\n",
    "\n",
    "        filings_dict = response.json()['filings']['recent']\n",
    "        filings_df = pd.DataFrame(filings_dict)\n",
    "        self.company_filings = filings_df[filings_df['primaryDocDescription'].isin(self.filing_options)]\n",
    "\n",
    "    def get_most_recent_accession_number(self):\n",
    "        \"\"\"\n",
    "        Retrieves the most recent accession number for the specified filings.\n",
    "        \"\"\"\n",
    "        self.fetch_filings_list()\n",
    "        self.accession_number = self.company_filings['accessionNumber'].iloc[0]\n",
    "    \n",
    "    def retrieve_filing_from_url(self):\n",
    "        \"\"\"\n",
    "        Retrieves the raw filing text from the SEC website.\n",
    "        \"\"\"\n",
    "        response = requests.get(self.request_url, headers=self.headers)\n",
    "        response.raise_for_status()\n",
    "        self.raw_filing = response.text\n",
    "    \n",
    "class PublicFiling:\n",
    "    def __init__(self, ticker=None, debug=False, company_cik=None,\n",
    "                 raw_filing=None, accession_number=None, filing_dict=None):\n",
    "        \"\"\"\n",
    "        Create class that manages an instance of a PublicFiling\n",
    "        Then use filingRequester to manage URL assembly\n",
    "        PublicFiling should manage parsing and section match (consider subclassing Items)\n",
    "        \"\"\"\n",
    "        self.company_cik = company_cik \n",
    "        self.ticker = ticker\n",
    "        self.debug = debug\n",
    "        self.accession_number = accession_number\n",
    "        self.raw_filing_dict = {}\n",
    "        self.filing_dict = filing_dict or {}\n",
    "        if raw_filing is None:\n",
    "            self.filing_request = FilingRequester(company_cik=self.company_cik, debug=self.debug, accession_number=self.accession_number)\n",
    "            self.accession_number = self.filing_request.accession_number\n",
    "            self.raw_filing = self.filing_request.raw_filing\n",
    "    \n",
    "    def __repr__(self):\n",
    "        return f\"{self.__class__.__name__}(ticker='{self.ticker}', company_cik='{self.company_cik}', accession_number='{self.accession_number}')\"\n",
    "    \n",
    "    def head(self, chars=2000):\n",
    "        print(self.raw_filing[0:chars])\n",
    "    \n",
    "    def get_item(self):\n",
    "        \"\"\"\n",
    "        find_regex_matches_in_doc()\n",
    "        Dedupe_regex_matches_to_drop_TOC_matches()\n",
    "        get_requested_item_match()\n",
    "        beautify_text()\n",
    "        \"\"\"\n",
    "        pass\n",
    "    \n",
    "    def get_matching_document_sections(self):\n",
    "        \"\"\"\n",
    "        Identifies and extracts sections of interest from the raw filing text.\n",
    "        \"\"\"\n",
    "\n",
    "        doc_start_pattern = re.compile(r'<DOCUMENT>')\n",
    "        doc_end_pattern = re.compile(r'</DOCUMENT>')\n",
    "        type_pattern = re.compile(r'<TYPE>[^\\n]+')\n",
    "\n",
    "        doc_start_indices = [match.end() for match in doc_start_pattern.finditer(self.raw_filing)]\n",
    "        doc_end_indices = [match.start() for match in doc_end_pattern.finditer(self.raw_filing)]\n",
    "        doc_types_present = [match.group()[len('<TYPE>'):] for match in type_pattern.finditer(self.raw_filing)]\n",
    "\n",
    "        for doc_type, start, end in zip(doc_types_present, doc_start_indices, doc_end_indices):\n",
    "            if doc_type == \"10-K\":\n",
    "                self.raw_filing_dict[doc_type] = self.raw_filing[start:end]\n",
    "        self.filing_dict[\"10-K\"] = self.beautify_text(self.raw_filing_dict[\"10-K\"])\n",
    "                \n",
    "        #return self.dedupe_match_patterns()\n",
    "\n",
    "    def dedupe_match_patterns(self):\n",
    "        \"\"\"\n",
    "        Deduplicates match patterns and prepares a DataFrame with the findings.\n",
    "        \"\"\"\n",
    "\n",
    "        # Write the regex\n",
    "        dedupe_regex = re.compile(r'(>Item(\\s|&#160;|&nbsp;)(1A|1B|7A|7|8)\\.{0,1})|(ITEM\\s(1A|1B|7A|7|8))')\n",
    "\n",
    "        # Matches\n",
    "        matches = dedupe_regex.finditer(self.filing_dict[\"10-K\"])\n",
    "\n",
    "        # Create the dataframe\n",
    "        self.filing_df = pd.DataFrame([(x.group(), x.start(), x.end()) for x in matches])\n",
    "\n",
    "        self.filing_df.columns = ['item', 'start', 'end']\n",
    "        self.filing_df['item'] = self.filing_df.item.str.lower()\n",
    "\n",
    "        # Display the dataframe\n",
    "        if self.debug: self.filing_df.head()\n",
    "        # Get rid of unnesesary charcters from the dataframe\n",
    "        # These include &nbsp or &#160;\n",
    "        self.filing_df.replace('&#160;',' ',regex=True,inplace=True)\n",
    "        self.filing_df.replace('&nbsp;',' ',regex=True,inplace=True)\n",
    "        self.filing_df.replace(' ','',regex=True,inplace=True)\n",
    "        self.filing_df.replace('\\.','',regex=True,inplace=True)\n",
    "        self.filing_df.replace('>','',regex=True,inplace=True)\n",
    "        self.filing_df.replace('0xa0',regex=True, inplace=True)\n",
    "        \n",
    "        #Deduple with only last value (to avoid Table of Contents). Ensure sorted\n",
    "        #self.filing_df = self.filing_df.sort_values('start', ascending=True).drop_duplicates(subset=['item'], keep='last')\n",
    "        \n",
    "        #Set index to Item\n",
    "        self.filing_df.set_index('item', inplace=True)\n",
    "        return self.filing_df\n",
    "\n",
    "    def get_item_1a(self):\n",
    "        \"\"\"\n",
    "        Extracts the \"Item 1A\" section from the filing, if available.\n",
    "        \"\"\"\n",
    "        if not self.filing_dict:\n",
    "            self.find_matching_document_sections()\n",
    "        try:\n",
    "            item_1a_start = self.filing_df.loc['item1a', 'start']\n",
    "            item_1b_start = self.filing_df.loc['item1b', 'start']\n",
    "            self.item_1a = self.filing_dict['10-K'][item_1a_start:item_1b_start]\n",
    "            return self.beautify_text(self.item_1a)\n",
    "        except KeyError as e:\n",
    "            print(f\"Item 1A not found. Error: {e}\")\n",
    "\n",
    "    def beautify_text(self, text):\n",
    "        \"\"\"\n",
    "        Cleans and formats the text for better readability.\n",
    "        \"\"\"\n",
    "        from bs4 import BeautifulSoup\n",
    "\n",
    "        soup = BeautifulSoup(text, 'lxml')\n",
    "        #return soup.get_text()\n",
    "        return soup.prettify()\n",
    "        \n"
   ]
  },
  {
   "cell_type": "code",
   "execution_count": 104,
   "id": "ee6febfe-005e-4544-ab7b-95e7d7367d1d",
   "metadata": {
    "tags": []
   },
   "outputs": [],
   "source": [
    "apple = PublicCompany(ticker='unh')\n"
   ]
  },
  {
   "cell_type": "code",
   "execution_count": 105,
   "id": "d87a3437-1624-4730-af9b-bba06787b50a",
   "metadata": {
    "tags": []
   },
   "outputs": [],
   "source": [
    "apple.most_recent_10k.get_matching_document_sections()"
   ]
  },
  {
   "cell_type": "code",
   "execution_count": 106,
   "id": "d6bbc3ed-af60-4cc7-a087-a8d7d7ed2933",
   "metadata": {},
   "outputs": [
    {
     "data": {
      "text/plain": [
       "3524948"
      ]
     },
     "execution_count": 106,
     "metadata": {},
     "output_type": "execute_result"
    }
   ],
   "source": [
    "len(apple.most_recent_10k.filing_dict['10-K'])"
   ]
  },
  {
   "cell_type": "code",
   "execution_count": 91,
   "id": "83e569cb-f4c9-4dc2-a5af-6de63c3ca852",
   "metadata": {
    "tags": []
   },
   "outputs": [],
   "source": [
    "# Write the regex\n",
    "dedupe_regex = re.compile(r'(>Item(\\s|&#160;|&nbsp;)(1A|1B|7A|7|8)\\.{0,1})|(ITEM\\s(1A|1B|7A|7|8))')\n",
    "\n",
    "# Matches\n",
    "matches = dedupe_regex.finditer(apple.most_recent_10k.filing_dict['10-K'])"
   ]
  },
  {
   "cell_type": "code",
   "execution_count": 95,
   "id": "80e27691-33b8-48af-abec-850718decb92",
   "metadata": {
    "tags": []
   },
   "outputs": [
    {
     "name": "stdout",
     "output_type": "stream",
     "text": [
      "<re.Match object; span=(91187, 91194), match='ITEM 1A'> <re.Match object; span=(157417, 157424), match='ITEM 1B'> <re.Match object; span=(167089, 167095), match='ITEM\\xa07'> <re.Match object; span=(206268, 206275), match='ITEM 7A'> <re.Match object; span=(210476, 210482), match='ITEM 8'>\n"
     ]
    }
   ],
   "source": [
    "apple.most_recent_10k.raw_filing_dict['10-K']"
   ]
  },
  {
   "cell_type": "code",
   "execution_count": 120,
   "id": "00761d12-dd03-4a2b-b8a8-a977de9a3658",
   "metadata": {
    "tags": []
   },
   "outputs": [
    {
     "name": "stdout",
     "output_type": "stream",
     "text": [
      "3524948\n"
     ]
    }
   ],
   "source": [
    "print(apple.most_recent_10k.filing_dict['10-K'], )"
   ]
  },
  {
   "cell_type": "code",
   "execution_count": 131,
   "id": "75942d2f-feb8-445c-be07-7357c0aa2d0c",
   "metadata": {
    "tags": []
   },
   "outputs": [],
   "source": [
    "\n",
    "df = pd.read_csv('ticker.txt', sep='\\t', names=[\"Ticker\", \"CIK\"])\n",
    "df['CIK'] = df['CIK'].apply(lambda x: f\"{x:0>10}\")\n",
    "ticker_list = df['Ticker'].tolist()\n",
    "ticker_list = ticker_list[0:25]"
   ]
  },
  {
   "cell_type": "code",
   "execution_count": 133,
   "id": "1ca31db7-027e-48fb-8405-11422cc45776",
   "metadata": {
    "tags": []
   },
   "outputs": [],
   "source": [
    "html_forms = []\n",
    "raw_text_forms = []\n",
    "for ticker in ticker_list:\n",
    "    try:\n",
    "        company = PublicCompany(ticker=ticker)\n",
    "        company.most_recent_10k.get_matching_document_sections()\n",
    "        html_forms.append(company.most_recent_10k.raw_filing_dict['10-K'])\n",
    "        raw_text_forms.append(company.most_recent_10k.filing_dict['10-K'])\n",
    "    except:\n",
    "        continue"
   ]
  },
  {
   "cell_type": "code",
   "execution_count": 135,
   "id": "6b7257d9-cb30-4cf2-b6da-a77b6d6e7ede",
   "metadata": {
    "tags": []
   },
   "outputs": [],
   "source": [
    "df = pd.DataFrame(list(zip(html_forms,raw_text_forms)), columns=['html_forms', 'raw_text_forms'])"
   ]
  },
  {
   "cell_type": "code",
   "execution_count": 137,
   "id": "1b97efd4-6466-434f-8a1e-e65c8cd678f9",
   "metadata": {
    "tags": []
   },
   "outputs": [],
   "source": [
    "df.to_csv(\"output.csv\")"
   ]
  }
 ],
 "metadata": {
  "kernelspec": {
   "display_name": "Python 3 (ipykernel)",
   "language": "python",
   "name": "python3"
  },
  "language_info": {
   "codemirror_mode": {
    "name": "ipython",
    "version": 3
   },
   "file_extension": ".py",
   "mimetype": "text/x-python",
   "name": "python",
   "nbconvert_exporter": "python",
   "pygments_lexer": "ipython3",
   "version": "3.11.5"
  }
 },
 "nbformat": 4,
 "nbformat_minor": 5
}
